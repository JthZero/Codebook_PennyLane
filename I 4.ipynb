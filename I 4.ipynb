{
 "cells": [
  {
   "cell_type": "code",
   "execution_count": 17,
   "id": "926314c5-d452-4814-b6c4-4ad676c981ce",
   "metadata": {},
   "outputs": [],
   "source": [
    "import pennylane as qml\n",
    "from pennylane import numpy as np\n",
    "from matplotlib import pyplot as plt"
   ]
  },
  {
   "cell_type": "markdown",
   "id": "5f626128-c7bd-4608-9fae-0674569aac18",
   "metadata": {},
   "source": [
    "# I 4.1"
   ]
  },
  {
   "cell_type": "markdown",
   "id": "64270f89-a682-4c8a-b81a-2c188be4b486",
   "metadata": {},
   "source": [
    "**Flipping bits**"
   ]
  },
  {
   "cell_type": "code",
   "execution_count": 7,
   "id": "9cdca113-a604-4b03-97ee-c8686b7c89b2",
   "metadata": {},
   "outputs": [
    {
     "data": {
      "text/plain": [
       "tensor([ 0.70710678+0.j, -0.70710678+0.j], requires_grad=True)"
      ]
     },
     "execution_count": 7,
     "metadata": {},
     "output_type": "execute_result"
    }
   ],
   "source": [
    "dev = qml.device(\"default.qubit\", wires=1)\n",
    "\n",
    "U = np.array([[1, 1], [1, -1]]) / np.sqrt(2)\n",
    "\n",
    "\n",
    "@qml.qnode(dev)\n",
    "def varied_initial_state(state):\n",
    "    \"\"\"Complete the function such that we can apply the operation U to\n",
    "    either |0> or |1> depending on the input argument flag.\n",
    "\n",
    "    Args:\n",
    "        state (int): Either 0 or 1. If 1, prepare the qubit in state |1>,\n",
    "            otherwise, leave it in state 0.\n",
    "\n",
    "    Returns:\n",
    "        np.array[complex]: The state of the qubit after the operations.\n",
    "    \"\"\"\n",
    "    qubit = np.array([1,0]) #Estado |0>\n",
    "    \n",
    "\n",
    "    \n",
    "    # KEEP THE QUBIT IN |0> OR CHANGE IT TO |1> DEPENDING ON THE state PARAMETER\n",
    "    if state == 1:\n",
    "        qml.PauliX(wires=0)\n",
    "    # APPLY U TO THE STATE\n",
    "    qml.QubitUnitary(U,wires=0)\n",
    "    return qml.state()\n",
    "    \n",
    "state = 1\n",
    "varied_initial_state(state)"
   ]
  },
  {
   "cell_type": "code",
   "execution_count": 8,
   "id": "546f2a27-afbc-4dac-916a-cf088eb8c0e5",
   "metadata": {},
   "outputs": [
    {
     "data": {
      "image/png": "[encoded data removed]",
      "text/plain": [
       "<Figure size 500x200 with 1 Axes>"
      ]
     },
     "metadata": {},
     "output_type": "display_data"
    }
   ],
   "source": [
    "fig, ax = qml.draw_mpl(varied_initial_state)(state)\n",
    "plt.show()"
   ]
  },
  {
   "cell_type": "markdown",
   "id": "f80d2711-8f7b-440a-83e9-ac90750dcbf7",
   "metadata": {},
   "source": [
    "# I 4.2"
   ]
  },
  {
   "cell_type": "markdown",
   "id": "2312e1f4-6965-42e9-a9f0-8fd086e20cc2",
   "metadata": {},
   "source": [
    "**Uniform superposition**"
   ]
  },
  {
   "cell_type": "code",
   "execution_count": 15,
   "id": "6dc7185e-5f1a-408a-8378-cb45f50c9cc2",
   "metadata": {},
   "outputs": [
    {
     "data": {
      "text/plain": [
       "tensor([0.70710678+0.j, 0.70710678+0.j], requires_grad=True)"
      ]
     },
     "execution_count": 15,
     "metadata": {},
     "output_type": "execute_result"
    }
   ],
   "source": [
    "dev = qml.device(\"default.qubit\", wires=1)\n",
    "\n",
    "\n",
    "@qml.qnode(dev)\n",
    "def apply_hadamard():\n",
    "    # APPLY THE HADAMARD GATE\n",
    "    qml.Hadamard(wires=0)\n",
    "    # RETURN THE STATE\n",
    "    return qml.state()\n",
    "\n",
    "apply_hadamard()\n",
    "    "
   ]
  },
  {
   "cell_type": "code",
   "execution_count": 18,
   "id": "fa6fe33a-c717-49d6-ad2c-7c02c4024dc9",
   "metadata": {},
   "outputs": [
    {
     "data": {
      "image/png": "[encoded data removed]",
      "text/plain": [
       "<Figure size 400x200 with 1 Axes>"
      ]
     },
     "metadata": {},
     "output_type": "display_data"
    }
   ],
   "source": [
    "fig, ax = qml.draw_mpl(apply_hadamard)()\n",
    "plt.show()"
   ]
  },
  {
   "cell_type": "markdown",
   "id": "bce55fed-8495-4fc2-a047-bc9cb7c57282",
   "metadata": {},
   "source": [
    "# I 4.3"
   ]
  },
  {
   "cell_type": "markdown",
   "id": "e269d251-8c9d-43a5-a6fa-8e1d8fe9e3ca",
   "metadata": {},
   "source": [
    "**Combining X and H**"
   ]
  },
  {
   "cell_type": "code",
   "execution_count": 31,
   "id": "7346ad42-da8a-4cf9-95c4-cfe6d6bb5c59",
   "metadata": {},
   "outputs": [
    {
     "name": "stdout",
     "output_type": "stream",
     "text": [
      "State |0> : [0.70710678+0.j 0.70710678+0.j]\n",
      "State |1> :  [ 0.70710678+0.j -0.70710678+0.j]\n"
     ]
    }
   ],
   "source": [
    "dev = qml.device(\"default.qubit\", wires=1)\n",
    "\n",
    "\n",
    "@qml.qnode(dev)\n",
    "def apply_hadamard_to_state(state):\n",
    "    \"\"\"Complete the function such that we can apply the Hadamard to\n",
    "    either |0> or |1> depending on the input argument flag.\n",
    "\n",
    "    Args:\n",
    "        state (int): Either 0 or 1. If 1, prepare the qubit in state |1>,\n",
    "            otherwise, leave it in state 0.\n",
    "\n",
    "    Returns:\n",
    "        np.array[complex]: The state of the qubit after the operations.\n",
    "    \"\"\"\n",
    "    ##################\n",
    "    # YOUR CODE HERE #\n",
    "    ##################\n",
    "\n",
    "    # KEEP THE QUBIT IN |0> OR CHANGE IT TO |1> DEPENDING ON state\n",
    "    if state == 1:\n",
    "        qml.PauliX(wires=0)\n",
    "    # APPLY THE HADAMARD\n",
    "    qml.Hadamard(wires=0)\n",
    "    # RETURN THE STATE\n",
    "\n",
    "    return qml.state()\n",
    "\n",
    "\n",
    "state = 0\n",
    "apply_hadamard_to_state(state)\n",
    "\n",
    "print(\"State |0> :\", apply_hadamard_to_state(0))\n",
    "print(\"State |1> : \", apply_hadamard_to_state(1))\n"
   ]
  },
  {
   "cell_type": "code",
   "execution_count": 27,
   "id": "610fe8af-6bad-4e07-b2a1-fad8a3544897",
   "metadata": {},
   "outputs": [
    {
     "data": {
      "image/png": "[encoded data removed]",
      "text/plain": [
       "<Figure size 500x200 with 1 Axes>"
      ]
     },
     "metadata": {},
     "output_type": "display_data"
    }
   ],
   "source": [
    "fig, ax = qml.draw_mpl(apply_hadamard_to_state)(state)\n",
    "plt.show()"
   ]
  },
  {
   "cell_type": "markdown",
   "id": "5099ff7f-43a9-4a9d-a38f-9997eef4f11a",
   "metadata": {},
   "source": [
    "# I 4.4"
   ]
  },
  {
   "cell_type": "markdown",
   "id": "40e2482e-eace-4f41-a93b-fb5c62757f21",
   "metadata": {},
   "source": [
    "**A QNode with X and H**"
   ]
  },
  {
   "cell_type": "code",
   "execution_count": 35,
   "id": "a700315d-3230-4448-af06-6b097219820b",
   "metadata": {},
   "outputs": [
    {
     "name": "stdout",
     "output_type": "stream",
     "text": [
      "State |0> : [1.+0.j 0.+0.j]\n",
      "State |1> : [ 0.+0.j -1.+0.j]\n"
     ]
    }
   ],
   "source": [
    "# CREATE A DEVICE\n",
    "dev = qml.device(\"default.qubit\", wires=1)\n",
    "# CREATE A QNODE CALLED apply_hxh THAT APPLIES THE CIRCUIT ABOVE\n",
    "@qml.qnode(dev)\n",
    "def apply_hxh(state):\n",
    "    if state == 1:\n",
    "        qml.PauliX(wires=0)\n",
    "        \n",
    "    qml.Hadamard(wires=0)\n",
    "    qml.PauliX(wires=0)\n",
    "    qml.Hadamard(wires=0)\n",
    "\n",
    "    return qml.state()\n",
    "\n",
    "# Print your results\n",
    "state = 1\n",
    "apply_hxh(state)\n",
    "\n",
    "print(\"State |0> :\", apply_hxh(0))\n",
    "print(\"State |1> :\", apply_hxh(1))\n"
   ]
  },
  {
   "cell_type": "code",
   "execution_count": 34,
   "id": "528a6dd1-1513-49cb-8e7c-46c97016b300",
   "metadata": {},
   "outputs": [
    {
     "data": {
      "image/png": "[encoded data removed]",
      "text/plain": [
       "<Figure size 700x200 with 1 Axes>"
      ]
     },
     "metadata": {},
     "output_type": "display_data"
    }
   ],
   "source": [
    "fig, ax = qml.draw_mpl(apply_hxh)(state)\n",
    "plt.show()"
   ]
  }
 ],
 "metadata": {
  "kernelspec": {
   "display_name": "Python 3 (ipykernel)",
   "language": "python",
   "name": "python3"
  },
  "language_info": {
   "codemirror_mode": {
    "name": "ipython",
    "version": 3
   },
   "file_extension": ".py",
   "mimetype": "text/x-python",
   "name": "python",
   "nbconvert_exporter": "python",
   "pygments_lexer": "ipython3",
   "version": "3.10.14"
  }
 },
 "nbformat": 4,
 "nbformat_minor": 5
}
