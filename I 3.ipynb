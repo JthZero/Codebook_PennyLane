{
 "cells": [
  {
   "cell_type": "code",
   "execution_count": 17,
   "id": "c4a8ec2a-f27f-4d71-babf-7a46848eb8fb",
   "metadata": {},
   "outputs": [],
   "source": [
    "import pennylane as qml\n",
    "from pennylane import numpy as np\n",
    "from matplotlib import pyplot as plt"
   ]
  },
  {
   "cell_type": "markdown",
   "id": "3b9b22b1-e45e-4068-90fd-2b7994e36b75",
   "metadata": {},
   "source": [
    "# I 3.1"
   ]
  },
  {
   "cell_type": "markdown",
   "id": "1ee3cb8f-075a-4b65-adb2-ae308a8b4f1e",
   "metadata": {},
   "source": [
    "**Unitaries in PennyLane**"
   ]
  },
  {
   "cell_type": "markdown",
   "id": "5446506d-233d-492f-8751-4ce344d369ec",
   "metadata": {},
   "source": [
    "qml.QubitUnitary(U, wires=wire)"
   ]
  },
  {
   "cell_type": "code",
   "execution_count": 10,
   "id": "e0f7f787-57b7-4224-b3c2-3ebb14eebf83",
   "metadata": {},
   "outputs": [
    {
     "data": {
      "text/plain": [
       "tensor([0.70710678+0.j, 0.70710678+0.j], requires_grad=True)"
      ]
     },
     "execution_count": 10,
     "metadata": {},
     "output_type": "execute_result"
    }
   ],
   "source": [
    "\n",
    "dev = qml.device(\"default.qubit\", wires=1)\n",
    "\n",
    "U = np.array([[1, 1], [1, -1]]) / np.sqrt(2)\n",
    "\n",
    "\n",
    "@qml.qnode(dev)\n",
    "def apply_u():\n",
    "    qml.QubitUnitary(U,wires = 0)\n",
    "    # USE QubitUnitary TO APPLY U TO THE QUBIT\n",
    "\n",
    "    # Return the state\n",
    "    return qml.state()\n",
    "\n",
    "apply_u()"
   ]
  },
  {
   "cell_type": "code",
   "execution_count": 19,
   "id": "109c727e-fd40-4c3f-857d-6d5512ea8e79",
   "metadata": {},
   "outputs": [
    {
     "data": {
      "image/png": "[encoded data removed]",
      "text/plain": [
       "<Figure size 400x200 with 1 Axes>"
      ]
     },
     "metadata": {},
     "output_type": "display_data"
    }
   ],
   "source": [
    "fig, ax = qml.draw_mpl(apply_u)()\n",
    "plt.show()"
   ]
  },
  {
   "cell_type": "markdown",
   "id": "62431135-6b70-4ff9-b24b-edbc4af1ccfa",
   "metadata": {},
   "source": [
    "# I 3.2"
   ]
  },
  {
   "cell_type": "markdown",
   "id": "62991663-3eac-43bc-a66a-b28dea2e3f3a",
   "metadata": {},
   "source": [
    "**Parametrized unitaries**"
   ]
  },
  {
   "cell_type": "code",
   "execution_count": 14,
   "id": "d6d7588f-7d71-4604-9c9f-143e0a0d5ab4",
   "metadata": {},
   "outputs": [
    {
     "data": {
      "text/plain": [
       "tensor([0.97517033-0.19767681j, 0.09933467+0.00996671j], requires_grad=True)"
      ]
     },
     "execution_count": 14,
     "metadata": {},
     "output_type": "execute_result"
    }
   ],
   "source": [
    "dev = qml.device(\"default.qubit\", wires=1)\n",
    "\n",
    "\n",
    "@qml.qnode(dev)\n",
    "def apply_u_as_rot(phi, theta, omega):\n",
    "    # APPLY A ROT GATE USING THE PROVIDED INPUT PARAMETERS\n",
    "    qml.Rot(phi, theta, omega, wires=0)\n",
    "    # RETURN THE QUANTUM STATE VECTOR\n",
    "    return qml.state()\n",
    "\n",
    "apply_u_as_rot(0.1,0.2,0.3)"
   ]
  },
  {
   "cell_type": "code",
   "execution_count": 18,
   "id": "8ddd1552-7407-4cfb-8f1a-84281a3452b5",
   "metadata": {},
   "outputs": [
    {
     "data": {
      "image/png": "[encoded data removed]",
      "text/plain": [
       "<Figure size 400x200 with 1 Axes>"
      ]
     },
     "metadata": {},
     "output_type": "display_data"
    }
   ],
   "source": [
    "fig, ax = qml.draw_mpl(apply_u_as_rot)(0.1,0.2,0.3)\n",
    "plt.show()"
   ]
  },
  {
   "cell_type": "markdown",
   "id": "3d48c3b4-0c6f-4d3e-83f7-29d9e2b0a868",
   "metadata": {},
   "source": [
    "# I 4.2"
   ]
  },
  {
   "cell_type": "markdown",
   "id": "77247d1f-0863-41fd-bbe8-7e86def918e9",
   "metadata": {},
   "source": [
    "**Uniform superposition**"
   ]
  },
  {
   "cell_type": "code",
   "execution_count": 20,
   "id": "7b651bd1-da3d-401d-8894-0903283829c3",
   "metadata": {},
   "outputs": [
    {
     "data": {
      "text/plain": [
       "tensor([0.70710678+0.j, 0.70710678+0.j], requires_grad=True)"
      ]
     },
     "execution_count": 20,
     "metadata": {},
     "output_type": "execute_result"
    }
   ],
   "source": [
    "dev = qml.device(\"default.qubit\", wires=1)\n",
    "\n",
    "\n",
    "@qml.qnode(dev)\n",
    "def apply_hadamard():\n",
    "    # APPLY THE HADAMARD GATE\n",
    "    qml.Hadamard(wires=0)\n",
    "    # RETURN THE STATE\n",
    "    return qml.state()\n",
    "\n",
    "apply_hadamard()\n",
    "    "
   ]
  },
  {
   "cell_type": "code",
   "execution_count": 21,
   "id": "00d5ed6a-643e-4a1f-ab20-ea0f757a955d",
   "metadata": {},
   "outputs": [
    {
     "data": {
      "image/png": "[encoded data removed]",
      "text/plain": [
       "<Figure size 400x200 with 1 Axes>"
      ]
     },
     "metadata": {},
     "output_type": "display_data"
    }
   ],
   "source": [
    "fig, ax = qml.draw_mpl(apply_hadamard)()\n",
    "plt.show()"
   ]
  },
  {
   "cell_type": "markdown",
   "id": "2c62db7a-7f16-41c5-8cf2-4eac8f74f870",
   "metadata": {},
   "source": [
    "# I 4.3"
   ]
  },
  {
   "cell_type": "markdown",
   "id": "1625346a-6829-41d6-9fb6-623111ed0be3",
   "metadata": {},
   "source": [
    "**Combining X and H**"
   ]
  },
  {
   "cell_type": "code",
   "execution_count": null,
   "id": "8b06b305-1804-4a90-824f-f9573d2a89fa",
   "metadata": {},
   "outputs": [],
   "source": [
    "dev = qml.device(\"default.qubit\", wires=1)\n",
    "\n",
    "\n",
    "@qml.qnode(dev)\n",
    "def apply_hadamard_to_state(state):\n",
    "    \"\"\"Complete the function such that we can apply the Hadamard to\n",
    "    either |0> or |1> depending on the input argument flag.\n",
    "\n",
    "    Args:\n",
    "        state (int): Either 0 or 1. If 1, prepare the qubit in state |1>,\n",
    "            otherwise, leave it in state 0.\n",
    "\n",
    "    Returns:\n",
    "        np.array[complex]: The state of the qubit after the operations.\n",
    "    \"\"\"\n",
    "    ##################\n",
    "    # YOUR CODE HERE #\n",
    "    ##################\n",
    "\n",
    "    # KEEP THE QUBIT IN |0> OR CHANGE IT TO |1> DEPENDING ON state\n",
    "    if state == 1\n",
    "        qml.PauliX(wires=0)\n",
    "    # APPLY THE HADAMARD\n",
    "    qml.Hadamard(wires=0)\n",
    "    # RETURN THE STATE\n",
    "\n",
    "    return qml.state()\n",
    "\n",
    "\n",
    "state = 0\n",
    "apply_hadamard_to_state(state)\n",
    "\n",
    "print(apply_hadamard_to_state(0))\n",
    "print(apply_hadamard_to_state(1))\n"
   ]
  },
  {
   "cell_type": "code",
   "execution_count": null,
   "id": "53343f26-09ea-4843-83e6-fb6cea853736",
   "metadata": {},
   "outputs": [],
   "source": [
    "fig, ax = qml.draw_mpl(apply_hadamard_to_state)()\n",
    "plt.show()"
   ]
  },
  {
   "cell_type": "code",
   "execution_count": null,
   "id": "613588d9-1539-450e-9e08-475afcd89d99",
   "metadata": {},
   "outputs": [],
   "source": []
  },
  {
   "cell_type": "code",
   "execution_count": null,
   "id": "9552126d-218a-4a75-9696-390ab00f67b5",
   "metadata": {},
   "outputs": [],
   "source": []
  }
 ],
 "metadata": {
  "kernelspec": {
   "display_name": "Python 3 (ipykernel)",
   "language": "python",
   "name": "python3"
  },
  "language_info": {
   "codemirror_mode": {
    "name": "ipython",
    "version": 3
   },
   "file_extension": ".py",
   "mimetype": "text/x-python",
   "name": "python",
   "nbconvert_exporter": "python",
   "pygments_lexer": "ipython3",
   "version": "3.10.14"
  }
 },
 "nbformat": 4,
 "nbformat_minor": 5
}
