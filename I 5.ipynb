{
 "cells": [
  {
   "cell_type": "code",
   "execution_count": 16,
   "id": "784e590b-e702-435c-a4a7-962248ad9d41",
   "metadata": {},
   "outputs": [],
   "source": [
    "import pennylane as qml\n",
    "#from pennylane import numpy as np\n",
    "import numpy as np\n",
    "import matplotlib.pyplot as plt"
   ]
  },
  {
   "cell_type": "markdown",
   "id": "60bed15f-e552-44f6-902f-9b884210fb6d",
   "metadata": {},
   "source": [
    "# I 5.1"
   ]
  },
  {
   "cell_type": "markdown",
   "id": "34fed29c-e746-404c-99f7-998934322de9",
   "metadata": {},
   "source": [
    "**The Pauli Z gate**"
   ]
  },
  {
   "cell_type": "code",
   "execution_count": 20,
   "id": "10d7a86a-43f4-48af-99a0-31dd5e34d5e8",
   "metadata": {},
   "outputs": [
    {
     "name": "stdout",
     "output_type": "stream",
     "text": [
      "[ 0.70710678+0.j -0.70710678+0.j]\n"
     ]
    }
   ],
   "source": [
    "dev = qml.device(\"default.qubit\", wires=1)\n",
    "\n",
    "\n",
    "@qml.qnode(dev)\n",
    "def apply_z_to_plus():\n",
    "    \"\"\"Write a circuit that applies PauliZ to the |+> state and returns\n",
    "    the state.\n",
    "\n",
    "    Returns:\n",
    "        np.array[complex]: The state of the qubit after the operations.\n",
    "    \"\"\"\n",
    "\n",
    "    ##################\n",
    "    # YOUR CODE HERE #\n",
    "    ##################\n",
    "\n",
    "    # CREATE THE |+> STATE\n",
    "    qml.Hadamard(wires=0) #Si nos dan un estado |0> con Hadamard se vuelve |+>\n",
    "    #statePlus = np.array([[1,0],[0,1]])/np.sqrt(2)\n",
    "    # APPLY PAULI Z\n",
    "    qml.PauliZ(wires=0)\n",
    "    # RETURN THE STATE\n",
    "    return qml.state()\n",
    "\n",
    "\n",
    "print(apply_z_to_plus())"
   ]
  },
  {
   "cell_type": "code",
   "execution_count": 21,
   "id": "48b904bf-2cd7-441c-89d8-f4f0a43bb45d",
   "metadata": {},
   "outputs": [
    {
     "data": {
      "image/png": "[encoded data removed]",
      "text/plain": [
       "<Figure size 500x200 with 1 Axes>"
      ]
     },
     "metadata": {},
     "output_type": "display_data"
    }
   ],
   "source": [
    "fig, ax = qml.draw_mpl(apply_z_to_plus)()\n",
    "plt.show()"
   ]
  },
  {
   "cell_type": "markdown",
   "id": "f7390c3a-8af8-4a03-a1b2-b205bfa4ce4a",
   "metadata": {},
   "source": [
    "# I 5.2"
   ]
  },
  {
   "cell_type": "markdown",
   "id": "88ff4b48-9c2a-412e-bdeb-a53d81973945",
   "metadata": {},
   "source": [
    "**The Z Rotation**"
   ]
  },
  {
   "cell_type": "code",
   "execution_count": 51,
   "id": "97faf4e9-14d2-4453-92a5-73ee7570e600",
   "metadata": {},
   "outputs": [
    {
     "name": "stdout",
     "output_type": "stream",
     "text": [
      "[4.32978028e-17-0.70710678j 4.32978028e-17+0.70710678j]\n"
     ]
    }
   ],
   "source": [
    "dev = qml.device(\"default.qubit\", wires=1)\n",
    "\n",
    "\n",
    "@qml.qnode(dev)\n",
    "def fake_z():\n",
    "    \"\"\"Use RZ to produce the same action as Pauli Z on the |+> state.\n",
    "\n",
    "    Returns:\n",
    "        np.array[complex]: The state of the qubit after the operations.\n",
    "    \"\"\"\n",
    "\n",
    "    ##################\n",
    "    # YOUR CODE HERE #\n",
    "    ##################\n",
    "\n",
    "    # CREATE THE |+> STATE\n",
    "    qml.Hadamard(wires = 0)\n",
    "    # APPLY RZ\n",
    "    w = np.pi\n",
    "    qml.RZ(w,wires = 0)\n",
    "    # RETURN THE STATE\n",
    "    return qml.state()\n",
    "    \n",
    "print(fake_z())"
   ]
  },
  {
   "cell_type": "code",
   "execution_count": 52,
   "id": "b427f784-30eb-429a-85f5-f68dc48ee5bc",
   "metadata": {},
   "outputs": [
    {
     "data": {
      "image/png": "[encoded data removed]",
      "text/plain": [
       "<Figure size 500x200 with 1 Axes>"
      ]
     },
     "metadata": {},
     "output_type": "display_data"
    }
   ],
   "source": [
    "fig, ax = qml.draw_mpl(fake_z)()\n",
    "plt.show()"
   ]
  },
  {
   "cell_type": "markdown",
   "id": "e8b56510-1d69-472e-ad87-0a3c928fe71c",
   "metadata": {},
   "source": [
    "# I 5.3"
   ]
  },
  {
   "cell_type": "markdown",
   "id": "ee45b4e7-6b9c-49a2-b4d8-4cf9dcb15888",
   "metadata": {},
   "source": [
    "**The S and T gates**"
   ]
  },
  {
   "cell_type": "code",
   "execution_count": 63,
   "id": "82d13dce-87c1-4c27-a327-2a1660f306f5",
   "metadata": {},
   "outputs": [
    {
     "name": "stdout",
     "output_type": "stream",
     "text": [
      "[0.69916673-0.10566872j 0.56910461-0.41966647j]\n"
     ]
    }
   ],
   "source": [
    "dev = qml.device(\"default.qubit\", wires=1)\n",
    "\n",
    "\n",
    "@qml.qnode(dev)\n",
    "def many_rotations():\n",
    "    \"\"\"Implement the circuit depicted above and return the quantum state.\n",
    "\n",
    "    Returns:\n",
    "        np.array[complex]: The state of the qubit after the operations.\n",
    "    \"\"\"\n",
    "\n",
    "    ##################\n",
    "    # YOUR CODE HERE #\n",
    "    ##################\n",
    "    #omega = np.pi\n",
    "    # IMPLEMENT THE CIRCUIT\n",
    "    qml.Hadamard(wires=0)\n",
    "    qml.S(wires=0)\n",
    "    qml.adjoint(qml.T)(wires=0)\n",
    "    qml.RZ(0.3,wires=0)\n",
    "    qml.adjoint(qml.S)(wires=0)\n",
    "    \n",
    "    \n",
    "    # RETURN THE STATE\n",
    "\n",
    "    return qml.state()\n",
    "print(many_rotations())"
   ]
  },
  {
   "cell_type": "code",
   "execution_count": 64,
   "id": "a2f7c74e-6aec-409d-a27f-b122655963dc",
   "metadata": {},
   "outputs": [
    {
     "data": {
      "image/png": "[encoded data removed]",
      "text/plain": [
       "<Figure size 800x200 with 1 Axes>"
      ]
     },
     "metadata": {},
     "output_type": "display_data"
    }
   ],
   "source": [
    "fig, ax = qml.draw_mpl(many_rotations)()\n",
    "plt.show()"
   ]
  },
  {
   "cell_type": "code",
   "execution_count": null,
   "id": "db717a85-a505-4617-b79f-852ba3a64e09",
   "metadata": {},
   "outputs": [],
   "source": []
  },
  {
   "cell_type": "code",
   "execution_count": null,
   "id": "aedcf3d0-d95f-40cd-94ff-c6ea7b2fdccc",
   "metadata": {},
   "outputs": [],
   "source": []
  },
  {
   "cell_type": "code",
   "execution_count": null,
   "id": "7c4049a3-e825-4871-8c6b-87ef1f68a991",
   "metadata": {},
   "outputs": [],
   "source": []
  },
  {
   "cell_type": "code",
   "execution_count": null,
   "id": "30519e6c-bb6c-4a70-852a-b87b530c8bf7",
   "metadata": {},
   "outputs": [],
   "source": []
  }
 ],
 "metadata": {
  "kernelspec": {
   "display_name": "Python 3 (ipykernel)",
   "language": "python",
   "name": "python3"
  },
  "language_info": {
   "codemirror_mode": {
    "name": "ipython",
    "version": 3
   },
   "file_extension": ".py",
   "mimetype": "text/x-python",
   "name": "python",
   "nbconvert_exporter": "python",
   "pygments_lexer": "ipython3",
   "version": "3.11.9"
  }
 },
 "nbformat": 4,
 "nbformat_minor": 5
}
