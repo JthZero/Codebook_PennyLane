{
 "cells": [
  {
   "cell_type": "code",
   "execution_count": 1,
   "id": "2314e657-dfee-4ac0-95bf-0430928a271f",
   "metadata": {},
   "outputs": [],
   "source": [
    "import numpy as np"
   ]
  },
  {
   "cell_type": "markdown",
   "id": "81c74844-b768-4356-894b-392854e9428d",
   "metadata": {},
   "source": [
    "# I 1.1"
   ]
  },
  {
   "cell_type": "markdown",
   "id": "c027a0e1-e064-4e47-812d-48e8bd2d7228",
   "metadata": {},
   "source": [
    "**Normalization of quantum states**"
   ]
  },
  {
   "cell_type": "code",
   "execution_count": 4,
   "id": "4cd8170f-7637-4996-bc79-d447df3295b6",
   "metadata": {},
   "outputs": [],
   "source": [
    "def normalize_state(alpha, beta):\n",
    "    norm = np.sqrt((np.abs(alpha))**2+(np.abs(beta)**2))\n",
    "    array_normalized = np.array([alpha,beta]/norm)\n",
    "    return array_normalized"
   ]
  },
  {
   "cell_type": "markdown",
   "id": "98461497-5088-46d6-97da-4ca66d931194",
   "metadata": {},
   "source": [
    "# I 1.2"
   ]
  },
  {
   "cell_type": "markdown",
   "id": "865c9bae-22a8-4707-9abb-9af15573b904",
   "metadata": {},
   "source": [
    "**Inner product and orthonormal bases**"
   ]
  },
  {
   "cell_type": "code",
   "execution_count": 6,
   "id": "ea5154c6-e87c-4f9a-8635-091b4ae94fe3",
   "metadata": {},
   "outputs": [
    {
     "name": "stdout",
     "output_type": "stream",
     "text": [
      "<0|0> = 1\n",
      "<0|1> = 0\n",
      "<1|0> = 0\n",
      "<1|1> = 1\n"
     ]
    }
   ],
   "source": [
    "def inner_product(state_1, state_2):\n",
    "    inner = np.dot(np.conj(state_1),state_2)\n",
    "    return inner\n",
    "# Test your results with this code\n",
    "ket_0 = np.array([1, 0])\n",
    "ket_1 = np.array([0, 1])\n",
    "\n",
    "print(f\"<0|0> = {inner_product(ket_0, ket_0)}\")\n",
    "print(f\"<0|1> = {inner_product(ket_0, ket_1)}\")\n",
    "print(f\"<1|0> = {inner_product(ket_1, ket_0)}\")\n",
    "print(f\"<1|1> = {inner_product(ket_1, ket_1)}\")"
   ]
  },
  {
   "cell_type": "markdown",
   "id": "255b516c-8e6d-4727-98b5-a52df31c34ce",
   "metadata": {},
   "source": [
    "# I 1.3"
   ]
  },
  {
   "cell_type": "markdown",
   "id": "414efb85-17ee-4f49-92a0-2977093b1512",
   "metadata": {},
   "source": [
    "**Sampling measurement outcomes**"
   ]
  },
  {
   "cell_type": "markdown",
   "id": "7c9106a4-b2c1-49eb-8c29-f89b426cc2bf",
   "metadata": {},
   "source": [
    "**Bad**"
   ]
  },
  {
   "cell_type": "code",
   "execution_count": 15,
   "id": "354a35c0-671f-4e13-86d8-f7d782a48376",
   "metadata": {},
   "outputs": [
    {
     "name": "stdout",
     "output_type": "stream",
     "text": [
      "[0. 0. 1. 1. 0. 1. 0. 0. 1. 0.]\n"
     ]
    }
   ],
   "source": [
    "def measure_state(state, num_meas):\n",
    "    value = np.random.choice(state,num_meas)\n",
    "    measures = np.array([])\n",
    "    for i in range (len(value)):\n",
    "        if (value[i] * np.conj(value[i])) > .50:\n",
    "            measures = np.append(measures,1)\n",
    "\n",
    "        \n",
    "        else:\n",
    "            measures = np.append(measures,0)\n",
    "\n",
    "    return measures\n",
    "            \n",
    "            \n",
    "state = np.array([0.8, 0.6])\n",
    "num_meas = 10\n",
    "print(measure_state(state,num_meas))\n",
    "\n",
    "    \n",
    "    "
   ]
  },
  {
   "cell_type": "markdown",
   "id": "05dc8827-c385-4094-9109-01ee26926826",
   "metadata": {},
   "source": [
    "**OK**"
   ]
  },
  {
   "cell_type": "code",
   "execution_count": 91,
   "id": "9678d47b-4c3d-40c7-9225-d6d4237ea81f",
   "metadata": {},
   "outputs": [
    {
     "name": "stdout",
     "output_type": "stream",
     "text": [
      "[0 0 0 1 0 0 0 0 0 1]\n"
     ]
    }
   ],
   "source": [
    "def measure_state(state, num_meas):\n",
    "    measures = np.random.choice(np.array([0,1]), num_meas, p = [np.abs(state[0])**2, np.abs(state[1])**2])\n",
    "    #measures = np.random.choice(np.array([0,1]), num_meas, p = [(state[0]) * np.conj(state[0]), (state[1]) * np.conj(state[1])])\n",
    "    return measures\n",
    "    \n",
    "\n",
    "state = np.array([0.8,0.6])\n",
    "#state = np.array([np.sqrt(0.5),np.sqrt(0.5)])  # 50%\n",
    "\n",
    "print(measure_state(state,10))\n",
    "\n",
    "    \n",
    "    "
   ]
  },
  {
   "cell_type": "markdown",
   "id": "308d4d3c-9959-497b-8279-4f0d830bdb36",
   "metadata": {},
   "source": [
    "# I 1.4"
   ]
  },
  {
   "cell_type": "markdown",
   "id": "079bb277-b66e-47e7-827f-b54962970f92",
   "metadata": {},
   "source": [
    "**Applying a quantum operation**"
   ]
  },
  {
   "cell_type": "code",
   "execution_count": 92,
   "id": "2bdfc264-02fa-4a77-87af-3d1beb1f0a2a",
   "metadata": {},
   "outputs": [
    {
     "name": "stdout",
     "output_type": "stream",
     "text": [
      "[0.98994949 0.14142136]\n"
     ]
    }
   ],
   "source": [
    "def apply_u(state):\n",
    "    multi = np.dot(U,state)\n",
    "    return multi\n",
    "\n",
    "U = np.array([[1, 1], [1, -1]]) / np.sqrt(2)\n",
    "#U = np.array([[0, 1], [1, 0]])\n",
    "state = np.array([0.8,0.6])\n",
    "\n",
    "print(apply_u(state))"
   ]
  },
  {
   "cell_type": "markdown",
   "id": "a31c6721-f74d-44cc-a02e-d66f8835bf04",
   "metadata": {},
   "source": [
    "# I 1.5"
   ]
  },
  {
   "cell_type": "markdown",
   "id": "8e56c6d3-22fd-4ccb-ab6c-acc99146685b",
   "metadata": {},
   "source": [
    "**A simple quantum algorithm**"
   ]
  },
  {
   "cell_type": "code",
   "execution_count": 94,
   "id": "91cc6778-6333-4c05-97c8-d35f9c79a844",
   "metadata": {},
   "outputs": [
    {
     "name": "stdout",
     "output_type": "stream",
     "text": [
      "[1 1 0 1 1 0 0 1 0 1 1 1 0 1 1 0 0 0 1 0 0 0 0 0 1 0 1 0 0 0 0 1 1 1 1 1 1\n",
      " 1 0 0 0 1 1 1 1 0 1 1 0 1 0 0 1 1 0 0 1 0 1 1 1 0 0 1 0 0 0 0 1 1 0 1 0 0\n",
      " 0 0 0 1 1 1 1 1 1 0 0 0 0 1 0 1 0 1 0 1 0 0 0 0 0 0]\n"
     ]
    }
   ],
   "source": [
    "def initialize_state():\n",
    "    qbit = np.array([1,0])    #Estado cero\n",
    "    return qbit\n",
    "\n",
    "def quantum_algorithm():\n",
    "    return measure_state(apply_u(initialize_state()),100)\n",
    "    \n",
    "print(quantum_algorithm())\n",
    "\n",
    "    "
   ]
  },
  {
   "cell_type": "code",
   "execution_count": null,
   "id": "478189a1-7eb8-43ef-b174-19d4bcceafdb",
   "metadata": {},
   "outputs": [],
   "source": []
  }
 ],
 "metadata": {
  "kernelspec": {
   "display_name": "Python 3 (ipykernel)",
   "language": "python",
   "name": "python3"
  },
  "language_info": {
   "codemirror_mode": {
    "name": "ipython",
    "version": 3
   },
   "file_extension": ".py",
   "mimetype": "text/x-python",
   "name": "python",
   "nbconvert_exporter": "python",
   "pygments_lexer": "ipython3",
   "version": "3.10.14"
  }
 },
 "nbformat": 4,
 "nbformat_minor": 5
}
